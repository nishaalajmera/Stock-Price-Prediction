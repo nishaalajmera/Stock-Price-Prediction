{
  "nbformat": 4,
  "nbformat_minor": 0,
  "metadata": {
    "colab": {
      "name": "stock-price-lstm.ipynb",
      "provenance": [],
      "collapsed_sections": [],
      "authorship_tag": "ABX9TyO3tKrSAbgFTQ8n3Lmu1A28"
    },
    "kernelspec": {
      "name": "python3",
      "display_name": "Python 3"
    },
    "language_info": {
      "name": "python"
    }
  },
  "cells": [
    {
      "cell_type": "markdown",
      "source": [
        "# Predicting Apple Stock Price using Long Short-Term Memory (LSTM)\n",
        "Author : Nishaal Ajmera"
      ],
      "metadata": {
        "id": "adRfWqcBAM-r"
      }
    },
    {
      "cell_type": "code",
      "source": [
        "import numpy as np\n",
        "import pandas as pd\n",
        "import matplotlib.pyplot as plt\n",
        "import yfinance as yf\n",
        "import datetime as dt\n",
        "import math\n",
        "\n",
        "from sklearn.preprocessing import MinMaxScaler\n",
        "from tensorflow.keras.models import Sequential\n",
        "from tensorflow.keras.layers import Dense, Dropout, LSTM"
      ],
      "metadata": {
        "id": "4KmytMuRWaKt"
      },
      "execution_count": 13,
      "outputs": []
    },
    {
      "cell_type": "markdown",
      "source": [
        "## Getting the data"
      ],
      "metadata": {
        "id": "FwXB5WNkAraT"
      }
    },
    {
      "cell_type": "code",
      "source": [
        "# Select ticker \n",
        "ticker = 'AAPL' \n",
        "start = dt.datetime(2000,1,1)\n",
        "end = dt.datetime(2022,1,1)\n",
        "\n",
        "ticker_instance = yf.Ticker(ticker)\n",
        "stock_data = ticker_instance.history(start = start, end = end)\n",
        "\n",
        "# Subset data by close price\n",
        "all_data = stock_data['Close'].values\n",
        "all_data = all_data.reshape(-1,1)\n"
      ],
      "metadata": {
        "id": "0AqYQqu8AqtV"
      },
      "execution_count": 14,
      "outputs": []
    },
    {
      "cell_type": "markdown",
      "source": [
        "## Preparing Data"
      ],
      "metadata": {
        "id": "CkXEonGlA4Ad"
      }
    },
    {
      "cell_type": "code",
      "source": [
        "# Prepare training data\n",
        "training_data_len = math.ceil(len(all_data)* 0.8)\n",
        "\n",
        "# Standardise the data\n",
        "scaler = MinMaxScaler(feature_range = (0,1))\n",
        "\n",
        "train_data = scaler.fit_transform(all_data[0: training_data_len, :])\n",
        "\n",
        "prediction_days = 60\n",
        "\n",
        "x_train = []\n",
        "y_train = []\n",
        "\n",
        "for i in range(prediction_days, len(train_data)):\n",
        "    x_train.append(train_data[i - prediction_days : i, 0])\n",
        "    y_train.append(train_data[i, 0])\n",
        "    \n",
        "x_train, y_train = np.array(x_train), np.array(y_train)\n",
        "x_train = np.reshape(x_train, (x_train.shape[0], x_train.shape[1], 1))\n",
        "\n",
        "# Prepare test data\n",
        "\n",
        "test_data = scaler.transform(all_data[training_data_len - prediction_days : , : ])\n",
        "\n",
        "\n",
        "x_test = []\n",
        "y_test = stock_data[\"Close\"].values[training_data_len:]\n",
        "\n",
        "for i in range(prediction_days, len(test_data)):\n",
        "  x_test.append(test_data[i - prediction_days : i, 0])\n",
        "\n",
        "x_test = np.array(x_test)\n",
        "x_test = np.reshape(x_test, (x_test.shape[0], x_test.shape[1], 1))"
      ],
      "metadata": {
        "id": "NBbCYgniA6NQ"
      },
      "execution_count": 15,
      "outputs": []
    },
    {
      "cell_type": "markdown",
      "source": [
        "## LSTM Model "
      ],
      "metadata": {
        "id": "HoGrxPlFCq2U"
      }
    },
    {
      "cell_type": "code",
      "source": [
        "# LSTM model \n",
        "model = Sequential()\n",
        "\n",
        "model.add(LSTM(units = 50, return_sequences = True, input_shape = (x_train.shape[1],1)))\n",
        "model.add(Dropout(0.2))\n",
        "model.add(LSTM(units =50, return_sequences = True))\n",
        "model.add(Dropout(0.2))\n",
        "model.add(LSTM(units = 50))\n",
        "model.add(Dropout(0.2))\n",
        "model.add(Dense(units = 1))\n",
        "\n",
        "print(model.summary())\n",
        "\n",
        "model.compile(optimizer = 'adam', loss = 'mean_squared_error')\n",
        "model.fit(x_train,y_train,epochs =25, batch_size=32)\n",
        "\n",
        "predicted_prices = model.predict(x_test)\n",
        "predicted_prices = scaler.inverse_transform(predicted_prices)\n",
        "\n",
        "lstm_rmse = np.sqrt(np.mean(predicted_prices - y_test)**2)\n",
        "print(\"RMSE Lstm:\", lstm_rmse)"
      ],
      "metadata": {
        "colab": {
          "base_uri": "https://localhost:8080/"
        },
        "id": "BqmdJO3-FG4a",
        "outputId": "4161fff2-1f10-4563-c211-5325faf81639"
      },
      "execution_count": 16,
      "outputs": [
        {
          "output_type": "stream",
          "name": "stdout",
          "text": [
            "Model: \"sequential_2\"\n",
            "_________________________________________________________________\n",
            " Layer (type)                Output Shape              Param #   \n",
            "=================================================================\n",
            " lstm_6 (LSTM)               (None, 60, 50)            10400     \n",
            "                                                                 \n",
            " dropout_6 (Dropout)         (None, 60, 50)            0         \n",
            "                                                                 \n",
            " lstm_7 (LSTM)               (None, 60, 50)            20200     \n",
            "                                                                 \n",
            " dropout_7 (Dropout)         (None, 60, 50)            0         \n",
            "                                                                 \n",
            " lstm_8 (LSTM)               (None, 50)                20200     \n",
            "                                                                 \n",
            " dropout_8 (Dropout)         (None, 50)                0         \n",
            "                                                                 \n",
            " dense_2 (Dense)             (None, 1)                 51        \n",
            "                                                                 \n",
            "=================================================================\n",
            "Total params: 50,851\n",
            "Trainable params: 50,851\n",
            "Non-trainable params: 0\n",
            "_________________________________________________________________\n",
            "None\n",
            "Epoch 1/25\n",
            "137/137 [==============================] - 20s 99ms/step - loss: 0.0055\n",
            "Epoch 2/25\n",
            "137/137 [==============================] - 14s 102ms/step - loss: 0.0016\n",
            "Epoch 3/25\n",
            "137/137 [==============================] - 13s 95ms/step - loss: 0.0015\n",
            "Epoch 4/25\n",
            "137/137 [==============================] - 13s 95ms/step - loss: 0.0013\n",
            "Epoch 5/25\n",
            "137/137 [==============================] - 13s 96ms/step - loss: 0.0013\n",
            "Epoch 6/25\n",
            "137/137 [==============================] - 14s 103ms/step - loss: 0.0011\n",
            "Epoch 7/25\n",
            "137/137 [==============================] - 13s 95ms/step - loss: 0.0013\n",
            "Epoch 8/25\n",
            "137/137 [==============================] - 13s 95ms/step - loss: 0.0010\n",
            "Epoch 9/25\n",
            "137/137 [==============================] - 13s 96ms/step - loss: 9.9454e-04\n",
            "Epoch 10/25\n",
            "137/137 [==============================] - 13s 96ms/step - loss: 9.6577e-04\n",
            "Epoch 11/25\n",
            "137/137 [==============================] - 13s 96ms/step - loss: 0.0010\n",
            "Epoch 12/25\n",
            "137/137 [==============================] - 13s 95ms/step - loss: 8.3735e-04\n",
            "Epoch 13/25\n",
            "137/137 [==============================] - 13s 97ms/step - loss: 8.0720e-04\n",
            "Epoch 14/25\n",
            "137/137 [==============================] - 13s 96ms/step - loss: 9.1559e-04\n",
            "Epoch 15/25\n",
            "137/137 [==============================] - 13s 96ms/step - loss: 8.3417e-04\n",
            "Epoch 16/25\n",
            "137/137 [==============================] - 14s 102ms/step - loss: 8.3043e-04\n",
            "Epoch 17/25\n",
            "137/137 [==============================] - 13s 95ms/step - loss: 8.0394e-04\n",
            "Epoch 18/25\n",
            "137/137 [==============================] - 13s 96ms/step - loss: 7.4132e-04\n",
            "Epoch 19/25\n",
            "137/137 [==============================] - 13s 96ms/step - loss: 7.2075e-04\n",
            "Epoch 20/25\n",
            "137/137 [==============================] - 13s 95ms/step - loss: 7.1766e-04\n",
            "Epoch 21/25\n",
            "137/137 [==============================] - 13s 95ms/step - loss: 7.9319e-04\n",
            "Epoch 22/25\n",
            "137/137 [==============================] - 13s 93ms/step - loss: 6.7276e-04\n",
            "Epoch 23/25\n",
            "137/137 [==============================] - 13s 95ms/step - loss: 6.8938e-04\n",
            "Epoch 24/25\n",
            "137/137 [==============================] - 13s 95ms/step - loss: 7.0867e-04\n",
            "Epoch 25/25\n",
            "137/137 [==============================] - 14s 103ms/step - loss: 7.6918e-04\n",
            "RMSE Lstm: 20.61183428742806\n"
          ]
        }
      ]
    },
    {
      "cell_type": "markdown",
      "source": [
        "## Results Visualisation"
      ],
      "metadata": {
        "id": "OFgdch4oFf44"
      }
    },
    {
      "cell_type": "code",
      "source": [
        "visual_data = stock_data.filter(['Close'])\n",
        "train = visual_data[:training_data_len].copy()\n",
        "validation = visual_data[training_data_len:].copy()\n",
        "validation['Predictions'] = predicted_prices\n",
        "plt.figure(figsize=(16,8))\n",
        "plt.title(f\"LSTM model for {ticker} Price Prediction\")\n",
        "plt.xlabel('Date')\n",
        "plt.ylabel('Close Price (USD)')\n",
        "plt.plot(train)\n",
        "plt.plot(validation[['Close', 'Predictions']])\n",
        "plt.legend(['Train', 'Val', 'Predictions'], loc='lower right')\n",
        "plt.show()"
      ],
      "metadata": {
        "id": "63yep6ezvhZV",
        "colab": {
          "base_uri": "https://localhost:8080/",
          "height": 513
        },
        "outputId": "1019898e-e3db-487d-a0eb-dde52f249884"
      },
      "execution_count": 17,
      "outputs": [
        {
          "output_type": "display_data",
          "data": {
            "text/plain": [
              "<Figure size 1152x576 with 1 Axes>"
            ],
            "image/png": "[encoded data removed]"
          },
          "metadata": {
            "needs_background": "light"
          }
        }
      ]
    }
  ]
}